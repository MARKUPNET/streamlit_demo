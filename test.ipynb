{
 "cells": [
  {
   "cell_type": "code",
   "execution_count": 26,
   "metadata": {},
   "outputs": [],
   "source": [
    "import numpy as np\n",
    "import pandas as pd\n",
    "from datetime import datetime, timedelta\n",
    "import re"
   ]
  },
  {
   "cell_type": "code",
   "execution_count": 27,
   "metadata": {},
   "outputs": [
    {
     "data": {
      "text/html": [
       "<div>\n",
       "<style scoped>\n",
       "    .dataframe tbody tr th:only-of-type {\n",
       "        vertical-align: middle;\n",
       "    }\n",
       "\n",
       "    .dataframe tbody tr th {\n",
       "        vertical-align: top;\n",
       "    }\n",
       "\n",
       "    .dataframe thead th {\n",
       "        text-align: right;\n",
       "    }\n",
       "</style>\n",
       "<table border=\"1\" class=\"dataframe\">\n",
       "  <thead>\n",
       "    <tr style=\"text-align: right;\">\n",
       "      <th></th>\n",
       "      <th>0</th>\n",
       "    </tr>\n",
       "  </thead>\n",
       "  <tbody>\n",
       "    <tr>\n",
       "      <th>0</th>\n",
       "      <td>[412023, 413023, 416023, 425223]</td>\n",
       "    </tr>\n",
       "    <tr>\n",
       "      <th>1</th>\n",
       "      <td>[312023, 313023, 316023, 324023]</td>\n",
       "    </tr>\n",
       "    <tr>\n",
       "      <th>2</th>\n",
       "      <td>[512023, 513023, 516023, 524023]</td>\n",
       "    </tr>\n",
       "  </tbody>\n",
       "</table>\n",
       "</div>"
      ],
      "text/plain": [
       "                                  0\n",
       "0  [412023, 413023, 416023, 425223]\n",
       "1  [312023, 313023, 316023, 324023]\n",
       "2  [512023, 513023, 516023, 524023]"
      ]
     },
     "execution_count": 27,
     "metadata": {},
     "output_type": "execute_result"
    }
   ],
   "source": [
    "df = pd.DataFrame(\n",
    "    [\n",
    "        [['412023','413023','416023','425223']],\n",
    "        [['312023','313023','316023','324023']],\n",
    "        [['512023','513023','516023','524023']]\n",
    "    ]\n",
    ")\n",
    "\n",
    "df"
   ]
  },
  {
   "cell_type": "code",
   "execution_count": 28,
   "metadata": {},
   "outputs": [],
   "source": [
    "list = []"
   ]
  },
  {
   "cell_type": "code",
   "execution_count": 29,
   "metadata": {},
   "outputs": [],
   "source": [
    "for row in df.itertuples(index=False):\n",
    "    list += row[0]\n",
    "\n",
    "list = sorted(list)"
   ]
  },
  {
   "cell_type": "code",
   "execution_count": 30,
   "metadata": {},
   "outputs": [
    {
     "name": "stdout",
     "output_type": "stream",
     "text": [
      "['312023', '313023', '316023', '324023', '412023', '413023', '416023', '425223', '512023', '513023', '516023', '524023']\n"
     ]
    }
   ],
   "source": [
    "print(list)"
   ]
  },
  {
   "cell_type": "code",
   "execution_count": 31,
   "metadata": {},
   "outputs": [
    {
     "data": {
      "text/html": [
       "<div>\n",
       "<style scoped>\n",
       "    .dataframe tbody tr th:only-of-type {\n",
       "        vertical-align: middle;\n",
       "    }\n",
       "\n",
       "    .dataframe tbody tr th {\n",
       "        vertical-align: top;\n",
       "    }\n",
       "\n",
       "    .dataframe thead th {\n",
       "        text-align: right;\n",
       "    }\n",
       "</style>\n",
       "<table border=\"1\" class=\"dataframe\">\n",
       "  <thead>\n",
       "    <tr style=\"text-align: right;\">\n",
       "      <th></th>\n",
       "      <th>TEST</th>\n",
       "    </tr>\n",
       "  </thead>\n",
       "  <tbody>\n",
       "    <tr>\n",
       "      <th>0</th>\n",
       "      <td>312023</td>\n",
       "    </tr>\n",
       "    <tr>\n",
       "      <th>1</th>\n",
       "      <td>313023</td>\n",
       "    </tr>\n",
       "    <tr>\n",
       "      <th>2</th>\n",
       "      <td>316023</td>\n",
       "    </tr>\n",
       "    <tr>\n",
       "      <th>3</th>\n",
       "      <td>324023</td>\n",
       "    </tr>\n",
       "    <tr>\n",
       "      <th>4</th>\n",
       "      <td>412023</td>\n",
       "    </tr>\n",
       "    <tr>\n",
       "      <th>5</th>\n",
       "      <td>413023</td>\n",
       "    </tr>\n",
       "    <tr>\n",
       "      <th>6</th>\n",
       "      <td>416023</td>\n",
       "    </tr>\n",
       "    <tr>\n",
       "      <th>7</th>\n",
       "      <td>425223</td>\n",
       "    </tr>\n",
       "    <tr>\n",
       "      <th>8</th>\n",
       "      <td>512023</td>\n",
       "    </tr>\n",
       "    <tr>\n",
       "      <th>9</th>\n",
       "      <td>513023</td>\n",
       "    </tr>\n",
       "    <tr>\n",
       "      <th>10</th>\n",
       "      <td>516023</td>\n",
       "    </tr>\n",
       "    <tr>\n",
       "      <th>11</th>\n",
       "      <td>524023</td>\n",
       "    </tr>\n",
       "  </tbody>\n",
       "</table>\n",
       "</div>"
      ],
      "text/plain": [
       "      TEST\n",
       "0   312023\n",
       "1   313023\n",
       "2   316023\n",
       "3   324023\n",
       "4   412023\n",
       "5   413023\n",
       "6   416023\n",
       "7   425223\n",
       "8   512023\n",
       "9   513023\n",
       "10  516023\n",
       "11  524023"
      ]
     },
     "execution_count": 31,
     "metadata": {},
     "output_type": "execute_result"
    }
   ],
   "source": [
    "df2 = pd.DataFrame(list, columns=['TEST'])\n",
    "df2"
   ]
  },
  {
   "cell_type": "code",
   "execution_count": 32,
   "metadata": {},
   "outputs": [
    {
     "name": "stdout",
     "output_type": "stream",
     "text": [
      "Icont31 = ['312023', '313023', '316023']\n",
      "Icont32 = ['324023']\n",
      "Icont41 = ['412023', '413023', '416023']\n",
      "Icont42 = ['425223']\n",
      "Icont51 = ['512023', '513023', '516023']\n",
      "Icont52 = ['524023']\n"
     ]
    }
   ],
   "source": [
    "# 抽出\n",
    "Icont31 = df2.query('TEST.str.match(\"31\")', engine='python')\n",
    "Icont32 = df2.query('TEST.str.match(\"32\")', engine='python')\n",
    "Icont41 = df2.query('TEST.str.match(\"41\")', engine='python')\n",
    "Icont42 = df2.query('TEST.str.match(\"42\")', engine='python')\n",
    "Icont51 = df2.query('TEST.str.match(\"51\")', engine='python')\n",
    "Icont52 = df2.query('TEST.str.match(\"52\")', engine='python')\n",
    "\n",
    "print('Icont31 = ' + str(Icont31['TEST'].tolist()))\n",
    "print('Icont32 = ' + str(Icont32['TEST'].tolist()))\n",
    "print('Icont41 = ' + str(Icont41['TEST'].tolist()))\n",
    "print('Icont42 = ' + str(Icont42['TEST'].tolist()))\n",
    "print('Icont51 = ' + str(Icont51['TEST'].tolist()))\n",
    "print('Icont52 = ' + str(Icont52['TEST'].tolist()))\n"
   ]
  },
  {
   "cell_type": "markdown",
   "metadata": {},
   "source": [
    "# サンプル"
   ]
  },
  {
   "cell_type": "code",
   "execution_count": 33,
   "metadata": {},
   "outputs": [
    {
     "name": "stdout",
     "output_type": "stream",
     "text": [
      "['2020-01-25', '2020-01-26', '2020-01-27', '2020-01-28', '2020-01-29', '2020-01-30', '2020-01-31', '2020-02-01', '2020-02-02', '2020-02-03', '2020-02-04', '2020-02-05']\n"
     ]
    }
   ],
   "source": [
    "# 日付のリスト生成()\n",
    "date_list = [datetime(2020, 1, 25) + timedelta(days=i) for i in range(12)]\n",
    "# 文字列に変換\n",
    "date_str_list = [d.strftime(\"%Y-%m-%d\") for d in date_list]\n",
    "print(date_str_list)"
   ]
  },
  {
   "cell_type": "code",
   "execution_count": 34,
   "metadata": {},
   "outputs": [
    {
     "name": "stdout",
     "output_type": "stream",
     "text": [
      "[1, 2, 3, 4, 5, 6, 7, 8, 9, 10, 11, 12]\n",
      "[2, 3, 4, 5, 6, 7, 8, 9, 10, 11, 12, 13]\n",
      "[3, 4, 5, 6, 7, 8, 9, 10, 11, 12, 13, 14]\n"
     ]
    }
   ],
   "source": [
    "data_a = [n for n in range(1,13)]\n",
    "data_b = [n for n in range(2,14)]\n",
    "data_c = [n for n in range(3,15)]\n",
    "print(data_a)\n",
    "print(data_b)\n",
    "print(data_c)\n"
   ]
  },
  {
   "cell_type": "code",
   "execution_count": 35,
   "metadata": {},
   "outputs": [
    {
     "name": "stdout",
     "output_type": "stream",
     "text": [
      "              a    b    c\n",
      "datetime                 \n",
      "2020-01-25  1.0  1.0  1.0\n",
      "2020-01-26  1.0  1.0  1.0\n",
      "2020-01-27  1.0  1.0  1.0\n",
      "2020-01-28  1.0  1.0  1.0\n",
      "2020-01-29  1.0  1.0  1.0\n",
      "2020-01-30  1.0  1.0  1.0\n",
      "2020-01-31  1.0  1.0  1.0\n",
      "2020-02-01  1.0  1.0  1.0\n",
      "2020-02-02  1.0  1.0  1.0\n",
      "2020-02-03  1.0  1.0  1.0\n",
      "2020-02-04  1.0  1.0  1.0\n",
      "2020-02-05  NaN  NaN  NaN\n"
     ]
    }
   ],
   "source": [
    "df = pd.DataFrame(\n",
    "    {\n",
    "        \"datetime\": date_str_list,\n",
    "        \"a\": data_a,\n",
    "        \"b\": data_b,\n",
    "        \"c\": data_c,\n",
    "    }\n",
    ")\n",
    "df['datetime'] = pd.to_datetime(df['datetime'])\n",
    "\n",
    "df = df.set_index('datetime')\n",
    "\n",
    "df_all = pd.DataFrame()\n",
    "\n",
    "for col in ['a','b','c']:\n",
    "\n",
    "    df2 = df[[col]]\n",
    "\n",
    "    df2.loc[:,['shift']] = df2[col].shift(-1)\n",
    "\n",
    "    df2['diff'] = df2['shift'] - df2[col]\n",
    "\n",
    "    df2 = df2.drop([col, 'shift'], axis=1)\n",
    "\n",
    "    df2.resample('M').sum()\n",
    "\n",
    "    df2.rename({'diff': col}, axis='columns', inplace=True)\n",
    "\n",
    "    df_all = pd.concat([df_all, df2], axis=1)\n",
    "\n",
    "print(df_all)\n",
    "\n"
   ]
  }
 ],
 "metadata": {
  "kernelspec": {
   "display_name": "venv_tool",
   "language": "python",
   "name": "python3"
  },
  "language_info": {
   "codemirror_mode": {
    "name": "ipython",
    "version": 3
   },
   "file_extension": ".py",
   "mimetype": "text/x-python",
   "name": "python",
   "nbconvert_exporter": "python",
   "pygments_lexer": "ipython3",
   "version": "3.11.5"
  }
 },
 "nbformat": 4,
 "nbformat_minor": 2
}
